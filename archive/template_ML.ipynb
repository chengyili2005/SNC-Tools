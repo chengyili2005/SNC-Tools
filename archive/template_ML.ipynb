{
 "cells": [
  {
   "cell_type": "markdown",
   "id": "b14a342e",
   "metadata": {},
   "source": [
    "This notebook is to provide a basic template for doing machine learning in Python"
   ]
  },
  {
   "cell_type": "markdown",
   "id": "445362bf",
   "metadata": {},
   "source": [
    "# Step 1: Initialize libraries (through installations or a conda environment)"
   ]
  },
  {
   "cell_type": "code",
   "execution_count": null,
   "id": "a1555c39",
   "metadata": {},
   "outputs": [
    {
     "name": "stdout",
     "output_type": "stream",
     "text": [
      "Requirement already satisfied: tensorflow in /home/chengyi/anaconda3/envs/DataSci/lib/python3.13/site-packages (2.20.0)\n",
      "Requirement already satisfied: matplotlib in /home/chengyi/anaconda3/envs/DataSci/lib/python3.13/site-packages (3.10.0)\n",
      "Requirement already satisfied: seaborn in /home/chengyi/anaconda3/envs/DataSci/lib/python3.13/site-packages (0.13.2)\n",
      "Requirement already satisfied: numpy in /home/chengyi/anaconda3/envs/DataSci/lib/python3.13/site-packages (2.3.1)\n",
      "Requirement already satisfied: pandas in /home/chengyi/anaconda3/envs/DataSci/lib/python3.13/site-packages (2.3.1)\n",
      "Requirement already satisfied: scikit-learn in /home/chengyi/anaconda3/envs/DataSci/lib/python3.13/site-packages (1.6.1)\n",
      "Requirement already satisfied: missingno in /home/chengyi/anaconda3/envs/DataSci/lib/python3.13/site-packages (0.5.2)\n",
      "Requirement already satisfied: tqdm in /home/chengyi/anaconda3/envs/DataSci/lib/python3.13/site-packages (4.67.1)\n",
      "Requirement already satisfied: absl-py>=1.0.0 in /home/chengyi/anaconda3/envs/DataSci/lib/python3.13/site-packages (from tensorflow) (2.3.1)\n",
      "Requirement already satisfied: astunparse>=1.6.0 in /home/chengyi/anaconda3/envs/DataSci/lib/python3.13/site-packages (from tensorflow) (1.6.3)\n",
      "Requirement already satisfied: flatbuffers>=24.3.25 in /home/chengyi/anaconda3/envs/DataSci/lib/python3.13/site-packages (from tensorflow) (25.2.10)\n",
      "Requirement already satisfied: gast!=0.5.0,!=0.5.1,!=0.5.2,>=0.2.1 in /home/chengyi/anaconda3/envs/DataSci/lib/python3.13/site-packages (from tensorflow) (0.6.0)\n",
      "Requirement already satisfied: google_pasta>=0.1.1 in /home/chengyi/anaconda3/envs/DataSci/lib/python3.13/site-packages (from tensorflow) (0.2.0)\n",
      "Requirement already satisfied: libclang>=13.0.0 in /home/chengyi/anaconda3/envs/DataSci/lib/python3.13/site-packages (from tensorflow) (18.1.1)\n",
      "Requirement already satisfied: opt_einsum>=2.3.2 in /home/chengyi/anaconda3/envs/DataSci/lib/python3.13/site-packages (from tensorflow) (3.4.0)\n",
      "Requirement already satisfied: packaging in /home/chengyi/anaconda3/envs/DataSci/lib/python3.13/site-packages (from tensorflow) (24.2)\n",
      "Requirement already satisfied: protobuf>=5.28.0 in /home/chengyi/anaconda3/envs/DataSci/lib/python3.13/site-packages (from tensorflow) (6.32.0)\n",
      "Requirement already satisfied: requests<3,>=2.21.0 in /home/chengyi/anaconda3/envs/DataSci/lib/python3.13/site-packages (from tensorflow) (2.32.4)\n",
      "Requirement already satisfied: setuptools in /home/chengyi/anaconda3/envs/DataSci/lib/python3.13/site-packages (from tensorflow) (72.1.0)\n",
      "Requirement already satisfied: six>=1.12.0 in /home/chengyi/anaconda3/envs/DataSci/lib/python3.13/site-packages (from tensorflow) (1.17.0)\n",
      "Requirement already satisfied: termcolor>=1.1.0 in /home/chengyi/anaconda3/envs/DataSci/lib/python3.13/site-packages (from tensorflow) (3.1.0)\n",
      "Requirement already satisfied: typing_extensions>=3.6.6 in /home/chengyi/anaconda3/envs/DataSci/lib/python3.13/site-packages (from tensorflow) (4.14.1)\n",
      "Requirement already satisfied: wrapt>=1.11.0 in /home/chengyi/anaconda3/envs/DataSci/lib/python3.13/site-packages (from tensorflow) (1.17.3)\n",
      "Requirement already satisfied: grpcio<2.0,>=1.24.3 in /home/chengyi/anaconda3/envs/DataSci/lib/python3.13/site-packages (from tensorflow) (1.74.0)\n",
      "Requirement already satisfied: tensorboard~=2.20.0 in /home/chengyi/anaconda3/envs/DataSci/lib/python3.13/site-packages (from tensorflow) (2.20.0)\n",
      "Requirement already satisfied: keras>=3.10.0 in /home/chengyi/anaconda3/envs/DataSci/lib/python3.13/site-packages (from tensorflow) (3.11.2)\n",
      "Requirement already satisfied: h5py>=3.11.0 in /home/chengyi/anaconda3/envs/DataSci/lib/python3.13/site-packages (from tensorflow) (3.14.0)\n",
      "Requirement already satisfied: ml_dtypes<1.0.0,>=0.5.1 in /home/chengyi/anaconda3/envs/DataSci/lib/python3.13/site-packages (from tensorflow) (0.5.3)\n",
      "Requirement already satisfied: charset_normalizer<4,>=2 in /home/chengyi/anaconda3/envs/DataSci/lib/python3.13/site-packages (from requests<3,>=2.21.0->tensorflow) (3.4.2)\n",
      "Requirement already satisfied: idna<4,>=2.5 in /home/chengyi/anaconda3/envs/DataSci/lib/python3.13/site-packages (from requests<3,>=2.21.0->tensorflow) (3.10)\n",
      "Requirement already satisfied: urllib3<3,>=1.21.1 in /home/chengyi/anaconda3/envs/DataSci/lib/python3.13/site-packages (from requests<3,>=2.21.0->tensorflow) (2.5.0)\n",
      "Requirement already satisfied: certifi>=2017.4.17 in /home/chengyi/anaconda3/envs/DataSci/lib/python3.13/site-packages (from requests<3,>=2.21.0->tensorflow) (2025.7.14)\n",
      "Requirement already satisfied: markdown>=2.6.8 in /home/chengyi/anaconda3/envs/DataSci/lib/python3.13/site-packages (from tensorboard~=2.20.0->tensorflow) (3.8.2)\n",
      "Requirement already satisfied: pillow in /home/chengyi/anaconda3/envs/DataSci/lib/python3.13/site-packages (from tensorboard~=2.20.0->tensorflow) (11.3.0)\n",
      "Requirement already satisfied: tensorboard-data-server<0.8.0,>=0.7.0 in /home/chengyi/anaconda3/envs/DataSci/lib/python3.13/site-packages (from tensorboard~=2.20.0->tensorflow) (0.7.2)\n",
      "Requirement already satisfied: werkzeug>=1.0.1 in /home/chengyi/anaconda3/envs/DataSci/lib/python3.13/site-packages (from tensorboard~=2.20.0->tensorflow) (3.1.3)\n",
      "Requirement already satisfied: contourpy>=1.0.1 in /home/chengyi/anaconda3/envs/DataSci/lib/python3.13/site-packages (from matplotlib) (1.3.1)\n",
      "Requirement already satisfied: cycler>=0.10 in /home/chengyi/anaconda3/envs/DataSci/lib/python3.13/site-packages (from matplotlib) (0.11.0)\n",
      "Requirement already satisfied: fonttools>=4.22.0 in /home/chengyi/anaconda3/envs/DataSci/lib/python3.13/site-packages (from matplotlib) (4.55.3)\n",
      "Requirement already satisfied: kiwisolver>=1.3.1 in /home/chengyi/anaconda3/envs/DataSci/lib/python3.13/site-packages (from matplotlib) (1.4.8)\n",
      "Requirement already satisfied: pyparsing>=2.3.1 in /home/chengyi/anaconda3/envs/DataSci/lib/python3.13/site-packages (from matplotlib) (3.2.0)\n",
      "Requirement already satisfied: python-dateutil>=2.7 in /home/chengyi/anaconda3/envs/DataSci/lib/python3.13/site-packages (from matplotlib) (2.9.0.post0)\n",
      "Requirement already satisfied: pytz>=2020.1 in /home/chengyi/anaconda3/envs/DataSci/lib/python3.13/site-packages (from pandas) (2025.2)\n",
      "Requirement already satisfied: tzdata>=2022.7 in /home/chengyi/anaconda3/envs/DataSci/lib/python3.13/site-packages (from pandas) (2025.2)\n",
      "Requirement already satisfied: scipy>=1.6.0 in /home/chengyi/anaconda3/envs/DataSci/lib/python3.13/site-packages (from scikit-learn) (1.16.0)\n",
      "Requirement already satisfied: joblib>=1.2.0 in /home/chengyi/anaconda3/envs/DataSci/lib/python3.13/site-packages (from scikit-learn) (1.4.2)\n",
      "Requirement already satisfied: threadpoolctl>=3.1.0 in /home/chengyi/anaconda3/envs/DataSci/lib/python3.13/site-packages (from scikit-learn) (3.5.0)\n",
      "Requirement already satisfied: wheel<1.0,>=0.23.0 in /home/chengyi/anaconda3/envs/DataSci/lib/python3.13/site-packages (from astunparse>=1.6.0->tensorflow) (0.45.1)\n",
      "Requirement already satisfied: rich in /home/chengyi/anaconda3/envs/DataSci/lib/python3.13/site-packages (from keras>=3.10.0->tensorflow) (14.1.0)\n",
      "Requirement already satisfied: namex in /home/chengyi/anaconda3/envs/DataSci/lib/python3.13/site-packages (from keras>=3.10.0->tensorflow) (0.1.0)\n",
      "Requirement already satisfied: optree in /home/chengyi/anaconda3/envs/DataSci/lib/python3.13/site-packages (from keras>=3.10.0->tensorflow) (0.17.0)\n",
      "Requirement already satisfied: MarkupSafe>=2.1.1 in /home/chengyi/anaconda3/envs/DataSci/lib/python3.13/site-packages (from werkzeug>=1.0.1->tensorboard~=2.20.0->tensorflow) (3.0.2)\n",
      "Requirement already satisfied: markdown-it-py>=2.2.0 in /home/chengyi/anaconda3/envs/DataSci/lib/python3.13/site-packages (from rich->keras>=3.10.0->tensorflow) (4.0.0)\n",
      "Requirement already satisfied: pygments<3.0.0,>=2.13.0 in /home/chengyi/anaconda3/envs/DataSci/lib/python3.13/site-packages (from rich->keras>=3.10.0->tensorflow) (2.19.2)\n",
      "Requirement already satisfied: mdurl~=0.1 in /home/chengyi/anaconda3/envs/DataSci/lib/python3.13/site-packages (from markdown-it-py>=2.2.0->rich->keras>=3.10.0->tensorflow) (0.1.2)\n"
     ]
    }
   ],
   "source": [
    "# Some recommended libraries\n",
    "# - scikit-learn: (basic) machine learning\n",
    "# - tensorflow: (slightly advanced) machine learning\n",
    "# - matplotlib: graphing\n",
    "# - seaborn: graphing\n",
    "# - numpy: generic data structures & arithmetic\n",
    "# - pandas: dataframes\n",
    "\n",
    "# Optional but recommended:\n",
    "# - missingno: NA value visualizations\n",
    "# - tqdm: progress bars\n",
    "\n",
    "!pip install matplotlib seaborn numpy pandas scikit-learn"
   ]
  },
  {
   "cell_type": "markdown",
   "id": "d97fcab5",
   "metadata": {},
   "source": [
    "# Step 2: Defining a dataset"
   ]
  },
  {
   "cell_type": "markdown",
   "id": "fa468c13",
   "metadata": {},
   "source": [
    "The goal of this section is to create some variables: \n",
    "- X: inputs to our model (i.e. a range of numbers)\n",
    "- y: the labels that the model will try to predict (i.e. even or odd)"
   ]
  },
  {
   "cell_type": "code",
   "execution_count": 117,
   "id": "a81c8638",
   "metadata": {},
   "outputs": [],
   "source": [
    "# Because this is a template notebook, let's make a synthetic dataset\n",
    "import numpy as np\n",
    "\n",
    "numbers = [num for num in range(1, 100)]\n",
    "labels = [\"even\" if num % 2 == 0 else \"odd\" for num in numbers]"
   ]
  },
  {
   "cell_type": "code",
   "execution_count": 118,
   "id": "11c84003",
   "metadata": {},
   "outputs": [],
   "source": [
    "# Set our inputs and outputs (Note: It's nice to wrap these in np.arrays to allow functions to more easily use them)\n",
    "X = np.array(numbers)\n",
    "y = np.array(labels)"
   ]
  },
  {
   "cell_type": "markdown",
   "id": "cbd73625",
   "metadata": {},
   "source": [
    "# Step 3: Exploratory data analysis (EDA)"
   ]
  },
  {
   "cell_type": "markdown",
   "id": "dd0b12b8",
   "metadata": {},
   "source": [
    "Understanding the structure of our data gives us an idea of what models will yield the best accuracies for us."
   ]
  },
  {
   "cell_type": "code",
   "execution_count": 119,
   "id": "76492416",
   "metadata": {},
   "outputs": [
    {
     "data": {
      "text/plain": [
       "<Axes: xlabel='number', ylabel='even or odd'>"
      ]
     },
     "execution_count": 119,
     "metadata": {},
     "output_type": "execute_result"
    },
    {
     "data": {
      "image/png": "[encoded data removed]",
      "text/plain": [
       "<Figure size 640x480 with 1 Axes>"
      ]
     },
     "metadata": {},
     "output_type": "display_data"
    }
   ],
   "source": [
    "import seaborn as sns\n",
    "import matplotlib.pyplot as plt\n",
    "\n",
    "plt.xlabel(\"number\")\n",
    "plt.ylabel(\"even or odd\")\n",
    "sns.scatterplot(x=X, y=y)"
   ]
  },
  {
   "cell_type": "markdown",
   "id": "3746a6f9",
   "metadata": {},
   "source": [
    "# Step 4: Setting up models"
   ]
  },
  {
   "cell_type": "markdown",
   "id": "064ceae7",
   "metadata": {},
   "source": [
    "Here's some general baseline models people use with scikit-learn"
   ]
  },
  {
   "cell_type": "code",
   "execution_count": 120,
   "id": "09c05526",
   "metadata": {},
   "outputs": [],
   "source": [
    "from sklearn.dummy import DummyClassifier\n",
    "from sklearn.linear_model import LinearRegression\n",
    "from sklearn.ensemble import RandomForestClassifier\n",
    "from sklearn.svm import SVC\n",
    "\n",
    "baseline_models = {\n",
    "    \"Dummy\": DummyClassifier(strategy=\"most_frequent\"), # Baseline\n",
    "    \"Linear Regression\": LinearRegression(),\n",
    "    \"Random Forest\": RandomForestClassifier(n_estimators=100, random_state=42),\n",
    "    \"Support Vector Classification\": SVC(kernel=\"linear\", probability=True, random_state=42)\n",
    "}"
   ]
  },
  {
   "cell_type": "markdown",
   "id": "3d875e7c",
   "metadata": {},
   "source": [
    "(optional) Tensorflow has good options for neural networks but I'm not very well experienced in this"
   ]
  },
  {
   "cell_type": "code",
   "execution_count": 107,
   "id": "4c8171cd",
   "metadata": {},
   "outputs": [
    {
     "name": "stderr",
     "output_type": "stream",
     "text": [
      "/home/chengyi/anaconda3/envs/DataSci/lib/python3.13/site-packages/keras/src/layers/core/dense.py:92: UserWarning: Do not pass an `input_shape`/`input_dim` argument to a layer. When using Sequential models, prefer using an `Input(shape)` object as the first layer in the model instead.\n",
      "  super().__init__(activity_regularizer=activity_regularizer, **kwargs)\n"
     ]
    },
    {
     "data": {
      "text/html": [
       "<pre style=\"white-space:pre;overflow-x:auto;line-height:normal;font-family:Menlo,'DejaVu Sans Mono',consolas,'Courier New',monospace\"><span style=\"font-weight: bold\">Model: \"sequential_8\"</span>\n",
       "</pre>\n"
      ],
      "text/plain": [
       "\u001b[1mModel: \"sequential_8\"\u001b[0m\n"
      ]
     },
     "metadata": {},
     "output_type": "display_data"
    },
    {
     "data": {
      "text/html": [
       "<pre style=\"white-space:pre;overflow-x:auto;line-height:normal;font-family:Menlo,'DejaVu Sans Mono',consolas,'Courier New',monospace\">┏━━━━━━━━━━━━━━━━━━━━━━━━━━━━━━━━━┳━━━━━━━━━━━━━━━━━━━━━━━━┳━━━━━━━━━━━━━━━┓\n",
       "┃<span style=\"font-weight: bold\"> Layer (type)                    </span>┃<span style=\"font-weight: bold\"> Output Shape           </span>┃<span style=\"font-weight: bold\">       Param # </span>┃\n",
       "┡━━━━━━━━━━━━━━━━━━━━━━━━━━━━━━━━━╇━━━━━━━━━━━━━━━━━━━━━━━━╇━━━━━━━━━━━━━━━┩\n",
       "│ dense_8 (<span style=\"color: #0087ff; text-decoration-color: #0087ff\">Dense</span>)                 │ (<span style=\"color: #00d7ff; text-decoration-color: #00d7ff\">None</span>, <span style=\"color: #00af00; text-decoration-color: #00af00\">1</span>)              │             <span style=\"color: #00af00; text-decoration-color: #00af00\">2</span> │\n",
       "└─────────────────────────────────┴────────────────────────┴───────────────┘\n",
       "</pre>\n"
      ],
      "text/plain": [
       "┏━━━━━━━━━━━━━━━━━━━━━━━━━━━━━━━━━┳━━━━━━━━━━━━━━━━━━━━━━━━┳━━━━━━━━━━━━━━━┓\n",
       "┃\u001b[1m \u001b[0m\u001b[1mLayer (type)                   \u001b[0m\u001b[1m \u001b[0m┃\u001b[1m \u001b[0m\u001b[1mOutput Shape          \u001b[0m\u001b[1m \u001b[0m┃\u001b[1m \u001b[0m\u001b[1m      Param #\u001b[0m\u001b[1m \u001b[0m┃\n",
       "┡━━━━━━━━━━━━━━━━━━━━━━━━━━━━━━━━━╇━━━━━━━━━━━━━━━━━━━━━━━━╇━━━━━━━━━━━━━━━┩\n",
       "│ dense_8 (\u001b[38;5;33mDense\u001b[0m)                 │ (\u001b[38;5;45mNone\u001b[0m, \u001b[38;5;34m1\u001b[0m)              │             \u001b[38;5;34m2\u001b[0m │\n",
       "└─────────────────────────────────┴────────────────────────┴───────────────┘\n"
      ]
     },
     "metadata": {},
     "output_type": "display_data"
    },
    {
     "data": {
      "text/html": [
       "<pre style=\"white-space:pre;overflow-x:auto;line-height:normal;font-family:Menlo,'DejaVu Sans Mono',consolas,'Courier New',monospace\"><span style=\"font-weight: bold\"> Total params: </span><span style=\"color: #00af00; text-decoration-color: #00af00\">2</span> (8.00 B)\n",
       "</pre>\n"
      ],
      "text/plain": [
       "\u001b[1m Total params: \u001b[0m\u001b[38;5;34m2\u001b[0m (8.00 B)\n"
      ]
     },
     "metadata": {},
     "output_type": "display_data"
    },
    {
     "data": {
      "text/html": [
       "<pre style=\"white-space:pre;overflow-x:auto;line-height:normal;font-family:Menlo,'DejaVu Sans Mono',consolas,'Courier New',monospace\"><span style=\"font-weight: bold\"> Trainable params: </span><span style=\"color: #00af00; text-decoration-color: #00af00\">2</span> (8.00 B)\n",
       "</pre>\n"
      ],
      "text/plain": [
       "\u001b[1m Trainable params: \u001b[0m\u001b[38;5;34m2\u001b[0m (8.00 B)\n"
      ]
     },
     "metadata": {},
     "output_type": "display_data"
    },
    {
     "data": {
      "text/html": [
       "<pre style=\"white-space:pre;overflow-x:auto;line-height:normal;font-family:Menlo,'DejaVu Sans Mono',consolas,'Courier New',monospace\"><span style=\"font-weight: bold\"> Non-trainable params: </span><span style=\"color: #00af00; text-decoration-color: #00af00\">0</span> (0.00 B)\n",
       "</pre>\n"
      ],
      "text/plain": [
       "\u001b[1m Non-trainable params: \u001b[0m\u001b[38;5;34m0\u001b[0m (0.00 B)\n"
      ]
     },
     "metadata": {},
     "output_type": "display_data"
    },
    {
     "name": "stdout",
     "output_type": "stream",
     "text": [
      "None\n"
     ]
    }
   ],
   "source": [
    "import tensorflow as tf\n",
    "\n",
    "neuralnet_model = tf.keras.Sequential()\n",
    "neuralnet_model.add(tf.keras.layers.Dense(units = 1, input_shape = [1]))\n",
    "neuralnet_model.compile(optimizer = tf.keras.optimizers.Adam(1.0), loss = 'mean_squared_error')\n",
    "\n",
    "print(neuralnet_model.summary())"
   ]
  },
  {
   "cell_type": "markdown",
   "id": "d3bf479c",
   "metadata": {},
   "source": [
    "# Step 5: Train & evaluate our models"
   ]
  },
  {
   "cell_type": "code",
   "execution_count": 121,
   "id": "72a2c5e3",
   "metadata": {},
   "outputs": [],
   "source": [
    "# One last thing we have to do. We have to change our labels into numbers instead of strings so that are model can understand them\n",
    "from sklearn import preprocessing\n",
    "le = preprocessing.LabelEncoder()\n",
    "le.fit(y)\n",
    "y = le.transform(y)"
   ]
  },
  {
   "cell_type": "code",
   "execution_count": 122,
   "id": "714caa20",
   "metadata": {},
   "outputs": [],
   "source": [
    "# We also have to change the shape of our input\n",
    "X = np.array(numbers).reshape(-1,1)"
   ]
  },
  {
   "cell_type": "code",
   "execution_count": 123,
   "id": "448e6b61",
   "metadata": {},
   "outputs": [],
   "source": [
    "from sklearn.model_selection import train_test_split\n",
    "\n",
    "X_train, X_test, y_train, y_test = train_test_split(X, y, test_size=0.2, random_state=42)"
   ]
  },
  {
   "cell_type": "code",
   "execution_count": 124,
   "id": "49efdf65",
   "metadata": {},
   "outputs": [
    {
     "name": "stdout",
     "output_type": "stream",
     "text": [
      "Dummy: 0.250\n",
      "Linear Regression: -0.657\n",
      "Random Forest: 0.000\n",
      "Support Vector Classification: 0.250\n"
     ]
    }
   ],
   "source": [
    "# Our baseline models are more useful for prediction classes (cases where we have a good amount of data points for each class such as ours)\n",
    "for name, model in baseline_models.items():\n",
    "    model.fit(X_train, y_train)\n",
    "    score = model.score(X_test, y_test)\n",
    "    print(f\"{name}: {score:.3f}\")"
   ]
  },
  {
   "cell_type": "code",
   "execution_count": null,
   "id": "f2efbb06",
   "metadata": {},
   "outputs": [],
   "source": [
    "# (Optional) Neural nets are good at predicting novel information\n",
    "epochs_hist = neuralnet_model.fit(X_train, y_train, epochs = 200)\n",
    "plt.plot(epochs_hist.history['loss'])\n",
    "plt.title('Model Loss Progress During Traning')\n",
    "plt.xlabel('Epochs')\n",
    "plt.ylabel('Training Loss')\n",
    "plt.legend(['Training Loss'])\n",
    "plt.show()"
   ]
  }
 ],
 "metadata": {
  "kernelspec": {
   "display_name": "DataSci",
   "language": "python",
   "name": "python3"
  },
  "language_info": {
   "codemirror_mode": {
    "name": "ipython",
    "version": 3
   },
   "file_extension": ".py",
   "mimetype": "text/x-python",
   "name": "python",
   "nbconvert_exporter": "python",
   "pygments_lexer": "ipython3",
   "version": "3.13.5"
  }
 },
 "nbformat": 4,
 "nbformat_minor": 5
}
